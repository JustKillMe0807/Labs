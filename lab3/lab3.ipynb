{
 "cells": [
  {
   "cell_type": "markdown",
   "metadata": {},
   "source": [
    "# Підготовка та Аналіз даних\n",
    "## Лабораторна робота №3\n",
    "## Наука про дані: обмін результатами та  початковий аналіз \n",
    "<b>Мета роботи</b>: ознайомитися з системою контролю версій GitHub, навчитися  створювати прості веб-додатки для обміну результатами досліджень із  використанням модуля spyre.\n",
    "\n",
    "#### ФБ-23 Хоменко Гліб"
   ]
  },
  {
   "cell_type": "markdown",
   "metadata": {},
   "source": [
    "## Завдання:\n",
    "<ul>\n",
    "    <li>Створити веб-додаток із використанням модуля Spyre, який дозволить: \n",
    "        обрати часовий ряд VCI, TCI, VHI для набору даних із лабораторної роботи 1 (випадаючий  список); \n",
    "    </li>\n",
    "    <li>\n",
    "        Вибрати область, для якої буде виконуватись аналіз (випадаючий список);\n",
    "        Зазначити інтервал тижнів, за які відбираються дані;\n",
    "    </li>\n",
    "     <li>\n",
    "        Вибрати область, для якої буде виконуватись аналіз (випадаючий список); \n",
    "    </li>\n",
    "    <li>\n",
    "        Створити кілька вкладок для відображення таблиці із даними на графіку ходу індексів;\n",
    "    </li>\n",
    "</ul>"
   ]
  },
  {
   "cell_type": "code",
   "execution_count": 1,
   "metadata": {},
   "outputs": [],
   "source": [
    "%run lab2.ipynb"
   ]
  },
  {
   "cell_type": "code",
   "execution_count": null,
   "metadata": {},
   "outputs": [
    {
     "name": "stderr",
     "output_type": "stream",
     "text": [
      "WARNING:root:Warning: unable to set defaultencoding to utf-8\n",
      "[28/Mar/2024:12:03:22] ENGINE Listening for SIGTERM.\n",
      "INFO:cherrypy.error:[28/Mar/2024:12:03:22] ENGINE Listening for SIGTERM.\n",
      "[28/Mar/2024:12:03:22] ENGINE Bus STARTING\n",
      "INFO:cherrypy.error:[28/Mar/2024:12:03:22] ENGINE Bus STARTING\n",
      "CherryPy Checker:\n",
      "The Application mounted at '' has an empty config.\n",
      "\n",
      "[28/Mar/2024:12:03:22] ENGINE Set handler for console events.\n",
      "INFO:cherrypy.error:[28/Mar/2024:12:03:22] ENGINE Set handler for console events.\n",
      "[28/Mar/2024:12:03:22] ENGINE Started monitor thread 'Autoreloader'.\n",
      "INFO:cherrypy.error:[28/Mar/2024:12:03:22] ENGINE Started monitor thread 'Autoreloader'.\n",
      "[28/Mar/2024:12:03:22] ENGINE Serving on http://127.0.0.1:9093\n",
      "INFO:cherrypy.error:[28/Mar/2024:12:03:22] ENGINE Serving on http://127.0.0.1:9093\n",
      "[28/Mar/2024:12:03:22] ENGINE Bus STARTED\n",
      "INFO:cherrypy.error:[28/Mar/2024:12:03:22] ENGINE Bus STARTED\n"
     ]
    },
    {
     "name": "stdout",
     "output_type": "stream",
     "text": [
      "127.0.0.1 - - [28/Mar/2024:12:03:23] \"GET / HTTP/1.1\" 200 442656 \"http://localhost:8888/\" \"Mozilla/5.0 (Windows NT 10.0; Win64; x64) AppleWebKit/537.36 (KHTML, like Gecko) Chrome/123.0.0.0 Safari/537.36\"\n"
     ]
    },
    {
     "name": "stderr",
     "output_type": "stream",
     "text": [
      "INFO:cherrypy.access.2070087904336:127.0.0.1 - - [28/Mar/2024:12:03:23] \"GET / HTTP/1.1\" 200 442656 \"http://localhost:8888/\" \"Mozilla/5.0 (Windows NT 10.0; Win64; x64) AppleWebKit/537.36 (KHTML, like Gecko) Chrome/123.0.0.0 Safari/537.36\"\n"
     ]
    },
    {
     "name": "stdout",
     "output_type": "stream",
     "text": [
      "127.0.0.1 - - [28/Mar/2024:12:03:23] \"GET /spinning_wheel HTTP/1.1\" 200 2663 \"http://127.0.0.1:9093/\" \"Mozilla/5.0 (Windows NT 10.0; Win64; x64) AppleWebKit/537.36 (KHTML, like Gecko) Chrome/123.0.0.0 Safari/537.36\"\n"
     ]
    },
    {
     "name": "stderr",
     "output_type": "stream",
     "text": [
      "INFO:cherrypy.access.2070087904336:127.0.0.1 - - [28/Mar/2024:12:03:23] \"GET /spinning_wheel HTTP/1.1\" 200 2663 \"http://127.0.0.1:9093/\" \"Mozilla/5.0 (Windows NT 10.0; Win64; x64) AppleWebKit/537.36 (KHTML, like Gecko) Chrome/123.0.0.0 Safari/537.36\"\n"
     ]
    },
    {
     "name": "stdout",
     "output_type": "stream",
     "text": [
      "127.0.0.1 - - [28/Mar/2024:12:03:23] \"GET /table?choosen_value=VCI&province_value=1&weeks=1-15&year=1982&output_id=table_id& HTTP/1.1\" 200 2931 \"http://127.0.0.1:9093/\" \"Mozilla/5.0 (Windows NT 10.0; Win64; x64) AppleWebKit/537.36 (KHTML, like Gecko) Chrome/123.0.0.0 Safari/537.36\"\n"
     ]
    },
    {
     "name": "stderr",
     "output_type": "stream",
     "text": [
      "INFO:cherrypy.access.2070087904336:127.0.0.1 - - [28/Mar/2024:12:03:23] \"GET /table?choosen_value=VCI&province_value=1&weeks=1-15&year=1982&output_id=table_id& HTTP/1.1\" 200 2931 \"http://127.0.0.1:9093/\" \"Mozilla/5.0 (Windows NT 10.0; Win64; x64) AppleWebKit/537.36 (KHTML, like Gecko) Chrome/123.0.0.0 Safari/537.36\"\n"
     ]
    },
    {
     "name": "stdout",
     "output_type": "stream",
     "text": [
      "127.0.0.1 - - [28/Mar/2024:12:03:23] \"GET /plot?choosen_value=VCI&province_value=1&weeks=1-15&year=1982&output_id=plot_id& HTTP/1.1\" 200 31332 \"http://127.0.0.1:9093/\" \"Mozilla/5.0 (Windows NT 10.0; Win64; x64) AppleWebKit/537.36 (KHTML, like Gecko) Chrome/123.0.0.0 Safari/537.36\"\n"
     ]
    },
    {
     "name": "stderr",
     "output_type": "stream",
     "text": [
      "INFO:cherrypy.access.2070087904336:127.0.0.1 - - [28/Mar/2024:12:03:23] \"GET /plot?choosen_value=VCI&province_value=1&weeks=1-15&year=1982&output_id=plot_id& HTTP/1.1\" 200 31332 \"http://127.0.0.1:9093/\" \"Mozilla/5.0 (Windows NT 10.0; Win64; x64) AppleWebKit/537.36 (KHTML, like Gecko) Chrome/123.0.0.0 Safari/537.36\"\n"
     ]
    },
    {
     "name": "stdout",
     "output_type": "stream",
     "text": [
      "127.0.0.1 - - [28/Mar/2024:12:03:29] \"GET /table?choosen_value=TCI&province_value=5&weeks=1-15&year=1982&output_id=table_id& HTTP/1.1\" 200 2932 \"http://127.0.0.1:9093/?choosen_value=TCI&province_value=5&weeks=1-15&year=1982&\" \"Mozilla/5.0 (Windows NT 10.0; Win64; x64) AppleWebKit/537.36 (KHTML, like Gecko) Chrome/123.0.0.0 Safari/537.36\"\n"
     ]
    },
    {
     "name": "stderr",
     "output_type": "stream",
     "text": [
      "INFO:cherrypy.access.2070087904336:127.0.0.1 - - [28/Mar/2024:12:03:29] \"GET /table?choosen_value=TCI&province_value=5&weeks=1-15&year=1982&output_id=table_id& HTTP/1.1\" 200 2932 \"http://127.0.0.1:9093/?choosen_value=TCI&province_value=5&weeks=1-15&year=1982&\" \"Mozilla/5.0 (Windows NT 10.0; Win64; x64) AppleWebKit/537.36 (KHTML, like Gecko) Chrome/123.0.0.0 Safari/537.36\"\n"
     ]
    },
    {
     "name": "stdout",
     "output_type": "stream",
     "text": [
      "127.0.0.1 - - [28/Mar/2024:12:03:29] \"GET /plot?choosen_value=TCI&province_value=5&weeks=1-15&year=1982&output_id=plot_id& HTTP/1.1\" 200 29378 \"http://127.0.0.1:9093/?choosen_value=TCI&province_value=5&weeks=1-15&year=1982&\" \"Mozilla/5.0 (Windows NT 10.0; Win64; x64) AppleWebKit/537.36 (KHTML, like Gecko) Chrome/123.0.0.0 Safari/537.36\"\n"
     ]
    },
    {
     "name": "stderr",
     "output_type": "stream",
     "text": [
      "INFO:cherrypy.access.2070087904336:127.0.0.1 - - [28/Mar/2024:12:03:29] \"GET /plot?choosen_value=TCI&province_value=5&weeks=1-15&year=1982&output_id=plot_id& HTTP/1.1\" 200 29378 \"http://127.0.0.1:9093/?choosen_value=TCI&province_value=5&weeks=1-15&year=1982&\" \"Mozilla/5.0 (Windows NT 10.0; Win64; x64) AppleWebKit/537.36 (KHTML, like Gecko) Chrome/123.0.0.0 Safari/537.36\"\n"
     ]
    },
    {
     "name": "stdout",
     "output_type": "stream",
     "text": [
      "127.0.0.1 - - [28/Mar/2024:12:03:32] \"GET /table?choosen_value=TCI&province_value=5&weeks=1-15&year=1982&output_id=table_id& HTTP/1.1\" 200 2932 \"http://127.0.0.1:9093/?choosen_value=TCI&province_value=5&weeks=1-15&year=1982&\" \"Mozilla/5.0 (Windows NT 10.0; Win64; x64) AppleWebKit/537.36 (KHTML, like Gecko) Chrome/123.0.0.0 Safari/537.36\"\n"
     ]
    },
    {
     "name": "stderr",
     "output_type": "stream",
     "text": [
      "INFO:cherrypy.access.2070087904336:127.0.0.1 - - [28/Mar/2024:12:03:32] \"GET /table?choosen_value=TCI&province_value=5&weeks=1-15&year=1982&output_id=table_id& HTTP/1.1\" 200 2932 \"http://127.0.0.1:9093/?choosen_value=TCI&province_value=5&weeks=1-15&year=1982&\" \"Mozilla/5.0 (Windows NT 10.0; Win64; x64) AppleWebKit/537.36 (KHTML, like Gecko) Chrome/123.0.0.0 Safari/537.36\"\n"
     ]
    },
    {
     "name": "stdout",
     "output_type": "stream",
     "text": [
      "127.0.0.1 - - [28/Mar/2024:12:03:35] \"GET /table?choosen_value=TCI&province_value=12&weeks=1-15&year=1982&output_id=table_id& HTTP/1.1\" 200 2947 \"http://127.0.0.1:9093/?choosen_value=TCI&province_value=12&weeks=1-15&year=1982&\" \"Mozilla/5.0 (Windows NT 10.0; Win64; x64) AppleWebKit/537.36 (KHTML, like Gecko) Chrome/123.0.0.0 Safari/537.36\"\n"
     ]
    },
    {
     "name": "stderr",
     "output_type": "stream",
     "text": [
      "INFO:cherrypy.access.2070087904336:127.0.0.1 - - [28/Mar/2024:12:03:35] \"GET /table?choosen_value=TCI&province_value=12&weeks=1-15&year=1982&output_id=table_id& HTTP/1.1\" 200 2947 \"http://127.0.0.1:9093/?choosen_value=TCI&province_value=12&weeks=1-15&year=1982&\" \"Mozilla/5.0 (Windows NT 10.0; Win64; x64) AppleWebKit/537.36 (KHTML, like Gecko) Chrome/123.0.0.0 Safari/537.36\"\n"
     ]
    },
    {
     "name": "stdout",
     "output_type": "stream",
     "text": [
      "127.0.0.1 - - [28/Mar/2024:12:03:35] \"GET /plot?choosen_value=TCI&province_value=12&weeks=1-15&year=1982&output_id=plot_id& HTTP/1.1\" 200 35176 \"http://127.0.0.1:9093/?choosen_value=TCI&province_value=12&weeks=1-15&year=1982&\" \"Mozilla/5.0 (Windows NT 10.0; Win64; x64) AppleWebKit/537.36 (KHTML, like Gecko) Chrome/123.0.0.0 Safari/537.36\"\n"
     ]
    },
    {
     "name": "stderr",
     "output_type": "stream",
     "text": [
      "INFO:cherrypy.access.2070087904336:127.0.0.1 - - [28/Mar/2024:12:03:35] \"GET /plot?choosen_value=TCI&province_value=12&weeks=1-15&year=1982&output_id=plot_id& HTTP/1.1\" 200 35176 \"http://127.0.0.1:9093/?choosen_value=TCI&province_value=12&weeks=1-15&year=1982&\" \"Mozilla/5.0 (Windows NT 10.0; Win64; x64) AppleWebKit/537.36 (KHTML, like Gecko) Chrome/123.0.0.0 Safari/537.36\"\n"
     ]
    },
    {
     "name": "stdout",
     "output_type": "stream",
     "text": [
      "127.0.0.1 - - [28/Mar/2024:12:03:42] \"GET /table?choosen_value=VCI&province_value=3&weeks=1-15&year=1982&output_id=table_id& HTTP/1.1\" 200 2932 \"http://127.0.0.1:9093/?choosen_value=VCI&province_value=3&weeks=1-15&year=1982&\" \"Mozilla/5.0 (Windows NT 10.0; Win64; x64) AppleWebKit/537.36 (KHTML, like Gecko) Chrome/123.0.0.0 Safari/537.36\"\n"
     ]
    },
    {
     "name": "stderr",
     "output_type": "stream",
     "text": [
      "INFO:cherrypy.access.2070087904336:127.0.0.1 - - [28/Mar/2024:12:03:42] \"GET /table?choosen_value=VCI&province_value=3&weeks=1-15&year=1982&output_id=table_id& HTTP/1.1\" 200 2932 \"http://127.0.0.1:9093/?choosen_value=VCI&province_value=3&weeks=1-15&year=1982&\" \"Mozilla/5.0 (Windows NT 10.0; Win64; x64) AppleWebKit/537.36 (KHTML, like Gecko) Chrome/123.0.0.0 Safari/537.36\"\n"
     ]
    },
    {
     "name": "stdout",
     "output_type": "stream",
     "text": [
      "127.0.0.1 - - [28/Mar/2024:12:03:42] \"GET /plot?choosen_value=VCI&province_value=3&weeks=1-15&year=1982&output_id=plot_id& HTTP/1.1\" 200 34118 \"http://127.0.0.1:9093/?choosen_value=VCI&province_value=3&weeks=1-15&year=1982&\" \"Mozilla/5.0 (Windows NT 10.0; Win64; x64) AppleWebKit/537.36 (KHTML, like Gecko) Chrome/123.0.0.0 Safari/537.36\"\n"
     ]
    },
    {
     "name": "stderr",
     "output_type": "stream",
     "text": [
      "INFO:cherrypy.access.2070087904336:127.0.0.1 - - [28/Mar/2024:12:03:42] \"GET /plot?choosen_value=VCI&province_value=3&weeks=1-15&year=1982&output_id=plot_id& HTTP/1.1\" 200 34118 \"http://127.0.0.1:9093/?choosen_value=VCI&province_value=3&weeks=1-15&year=1982&\" \"Mozilla/5.0 (Windows NT 10.0; Win64; x64) AppleWebKit/537.36 (KHTML, like Gecko) Chrome/123.0.0.0 Safari/537.36\"\n"
     ]
    },
    {
     "name": "stdout",
     "output_type": "stream",
     "text": [
      "127.0.0.1 - - [28/Mar/2024:12:03:49] \"GET /table?choosen_value=VCI&province_value=3&weeks=1-15&year=3000&output_id=table_id& HTTP/1.1\" 200 526 \"http://127.0.0.1:9093/?choosen_value=VCI&province_value=3&weeks=1-15&year=3000&\" \"Mozilla/5.0 (Windows NT 10.0; Win64; x64) AppleWebKit/537.36 (KHTML, like Gecko) Chrome/123.0.0.0 Safari/537.36\"\n"
     ]
    },
    {
     "name": "stderr",
     "output_type": "stream",
     "text": [
      "INFO:cherrypy.access.2070087904336:127.0.0.1 - - [28/Mar/2024:12:03:49] \"GET /table?choosen_value=VCI&province_value=3&weeks=1-15&year=3000&output_id=table_id& HTTP/1.1\" 200 526 \"http://127.0.0.1:9093/?choosen_value=VCI&province_value=3&weeks=1-15&year=3000&\" \"Mozilla/5.0 (Windows NT 10.0; Win64; x64) AppleWebKit/537.36 (KHTML, like Gecko) Chrome/123.0.0.0 Safari/537.36\"\n",
      "[28/Mar/2024:12:03:49] HTTP \n",
      "Traceback (most recent call last):\n",
      "  File \"D:\\Anaconda\\Lib\\site-packages\\cherrypy\\_cprequest.py\", line 638, in respond\n",
      "    self._do_respond(path_info)\n",
      "  File \"D:\\Anaconda\\Lib\\site-packages\\cherrypy\\_cprequest.py\", line 697, in _do_respond\n",
      "    response.body = self.handler()\n",
      "                    ^^^^^^^^^^^^^^\n",
      "  File \"D:\\Anaconda\\Lib\\site-packages\\cherrypy\\lib\\encoding.py\", line 223, in __call__\n",
      "    self.body = self.oldhandler(*args, **kwargs)\n",
      "                ^^^^^^^^^^^^^^^^^^^^^^^^^^^^^^^^\n",
      "  File \"D:\\Anaconda\\Lib\\site-packages\\cherrypy\\_cpdispatch.py\", line 54, in __call__\n",
      "    return self.callable(*self.args, **self.kwargs)\n",
      "           ^^^^^^^^^^^^^^^^^^^^^^^^^^^^^^^^^^^^^^^^\n",
      "  File \"D:\\Anaconda\\Lib\\site-packages\\spyre\\server.py\", line 198, in plot\n",
      "    p = self.getPlot(args)\n",
      "        ^^^^^^^^^^^^^^^^^^\n",
      "  File \"C:\\Users\\Admin\\AppData\\Local\\Temp\\ipykernel_5124\\729146648.py\", line 112, in getPlot\n",
      "    min_week = min(cdf['Week'])\n",
      "               ^^^^^^^^^^^^^^^^\n",
      "ValueError: min() arg is an empty sequence\n",
      "ERROR:cherrypy.error.2070087904336:[28/Mar/2024:12:03:49] HTTP \n",
      "Traceback (most recent call last):\n",
      "  File \"D:\\Anaconda\\Lib\\site-packages\\cherrypy\\_cprequest.py\", line 638, in respond\n",
      "    self._do_respond(path_info)\n",
      "  File \"D:\\Anaconda\\Lib\\site-packages\\cherrypy\\_cprequest.py\", line 697, in _do_respond\n",
      "    response.body = self.handler()\n",
      "                    ^^^^^^^^^^^^^^\n",
      "  File \"D:\\Anaconda\\Lib\\site-packages\\cherrypy\\lib\\encoding.py\", line 223, in __call__\n",
      "    self.body = self.oldhandler(*args, **kwargs)\n",
      "                ^^^^^^^^^^^^^^^^^^^^^^^^^^^^^^^^\n",
      "  File \"D:\\Anaconda\\Lib\\site-packages\\cherrypy\\_cpdispatch.py\", line 54, in __call__\n",
      "    return self.callable(*self.args, **self.kwargs)\n",
      "           ^^^^^^^^^^^^^^^^^^^^^^^^^^^^^^^^^^^^^^^^\n",
      "  File \"D:\\Anaconda\\Lib\\site-packages\\spyre\\server.py\", line 198, in plot\n",
      "    p = self.getPlot(args)\n",
      "        ^^^^^^^^^^^^^^^^^^\n",
      "  File \"C:\\Users\\Admin\\AppData\\Local\\Temp\\ipykernel_5124\\729146648.py\", line 112, in getPlot\n",
      "    min_week = min(cdf['Week'])\n",
      "               ^^^^^^^^^^^^^^^^\n",
      "ValueError: min() arg is an empty sequence\n",
      "[28/Mar/2024:12:03:49] HTTP \n",
      "Request Headers:\n",
      "  Remote-Addr: 127.0.0.1\n",
      "  HOST: 127.0.0.1:9093\n",
      "  CONNECTION: keep-alive\n",
      "  SEC-CH-UA: \"Google Chrome\";v=\"123\", \"Not:A-Brand\";v=\"8\", \"Chromium\";v=\"123\"\n",
      "  SEC-CH-UA-MOBILE: ?0\n",
      "  USER-AGENT: Mozilla/5.0 (Windows NT 10.0; Win64; x64) AppleWebKit/537.36 (KHTML, like Gecko) Chrome/123.0.0.0 Safari/537.36\n",
      "  SEC-CH-UA-PLATFORM: \"Windows\"\n",
      "  ACCEPT: image/avif,image/webp,image/apng,image/svg+xml,image/*,*/*;q=0.8\n",
      "  SEC-FETCH-SITE: same-origin\n",
      "  SEC-FETCH-MODE: no-cors\n",
      "  SEC-FETCH-DEST: image\n",
      "  REFERER: http://127.0.0.1:9093/?choosen_value=VCI&province_value=3&weeks=1-15&year=3000&\n",
      "  ACCEPT-ENCODING: gzip, deflate, br, zstd\n",
      "  ACCEPT-LANGUAGE: ru-RU,ru;q=0.9,en-US;q=0.8,en;q=0.7,uk;q=0.6,cs;q=0.5\n",
      "INFO:cherrypy.error.2070087904336:[28/Mar/2024:12:03:49] HTTP \n",
      "Request Headers:\n",
      "  Remote-Addr: 127.0.0.1\n",
      "  HOST: 127.0.0.1:9093\n",
      "  CONNECTION: keep-alive\n",
      "  SEC-CH-UA: \"Google Chrome\";v=\"123\", \"Not:A-Brand\";v=\"8\", \"Chromium\";v=\"123\"\n",
      "  SEC-CH-UA-MOBILE: ?0\n",
      "  USER-AGENT: Mozilla/5.0 (Windows NT 10.0; Win64; x64) AppleWebKit/537.36 (KHTML, like Gecko) Chrome/123.0.0.0 Safari/537.36\n",
      "  SEC-CH-UA-PLATFORM: \"Windows\"\n",
      "  ACCEPT: image/avif,image/webp,image/apng,image/svg+xml,image/*,*/*;q=0.8\n",
      "  SEC-FETCH-SITE: same-origin\n",
      "  SEC-FETCH-MODE: no-cors\n",
      "  SEC-FETCH-DEST: image\n",
      "  REFERER: http://127.0.0.1:9093/?choosen_value=VCI&province_value=3&weeks=1-15&year=3000&\n",
      "  ACCEPT-ENCODING: gzip, deflate, br, zstd\n",
      "  ACCEPT-LANGUAGE: ru-RU,ru;q=0.9,en-US;q=0.8,en;q=0.7,uk;q=0.6,cs;q=0.5\n"
     ]
    },
    {
     "name": "stdout",
     "output_type": "stream",
     "text": [
      "127.0.0.1 - - [28/Mar/2024:12:03:49] \"GET /plot?choosen_value=VCI&province_value=3&weeks=1-15&year=3000&output_id=plot_id& HTTP/1.1\" 500 1835 \"http://127.0.0.1:9093/?choosen_value=VCI&province_value=3&weeks=1-15&year=3000&\" \"Mozilla/5.0 (Windows NT 10.0; Win64; x64) AppleWebKit/537.36 (KHTML, like Gecko) Chrome/123.0.0.0 Safari/537.36\"\n"
     ]
    },
    {
     "name": "stderr",
     "output_type": "stream",
     "text": [
      "INFO:cherrypy.access.2070087904336:127.0.0.1 - - [28/Mar/2024:12:03:49] \"GET /plot?choosen_value=VCI&province_value=3&weeks=1-15&year=3000&output_id=plot_id& HTTP/1.1\" 500 1835 \"http://127.0.0.1:9093/?choosen_value=VCI&province_value=3&weeks=1-15&year=3000&\" \"Mozilla/5.0 (Windows NT 10.0; Win64; x64) AppleWebKit/537.36 (KHTML, like Gecko) Chrome/123.0.0.0 Safari/537.36\"\n"
     ]
    },
    {
     "name": "stdout",
     "output_type": "stream",
     "text": [
      "127.0.0.1 - - [28/Mar/2024:12:03:52] \"GET /table?choosen_value=VCI&province_value=3&weeks=1-15&year=2000&output_id=table_id& HTTP/1.1\" 200 2932 \"http://127.0.0.1:9093/?choosen_value=VCI&province_value=3&weeks=1-15&year=2000&\" \"Mozilla/5.0 (Windows NT 10.0; Win64; x64) AppleWebKit/537.36 (KHTML, like Gecko) Chrome/123.0.0.0 Safari/537.36\"\n"
     ]
    },
    {
     "name": "stderr",
     "output_type": "stream",
     "text": [
      "INFO:cherrypy.access.2070087904336:127.0.0.1 - - [28/Mar/2024:12:03:52] \"GET /table?choosen_value=VCI&province_value=3&weeks=1-15&year=2000&output_id=table_id& HTTP/1.1\" 200 2932 \"http://127.0.0.1:9093/?choosen_value=VCI&province_value=3&weeks=1-15&year=2000&\" \"Mozilla/5.0 (Windows NT 10.0; Win64; x64) AppleWebKit/537.36 (KHTML, like Gecko) Chrome/123.0.0.0 Safari/537.36\"\n"
     ]
    },
    {
     "name": "stdout",
     "output_type": "stream",
     "text": [
      "127.0.0.1 - - [28/Mar/2024:12:03:52] \"GET /plot?choosen_value=VCI&province_value=3&weeks=1-15&year=2000&output_id=plot_id& HTTP/1.1\" 200 34700 \"http://127.0.0.1:9093/?choosen_value=VCI&province_value=3&weeks=1-15&year=2000&\" \"Mozilla/5.0 (Windows NT 10.0; Win64; x64) AppleWebKit/537.36 (KHTML, like Gecko) Chrome/123.0.0.0 Safari/537.36\"\n"
     ]
    },
    {
     "name": "stderr",
     "output_type": "stream",
     "text": [
      "INFO:cherrypy.access.2070087904336:127.0.0.1 - - [28/Mar/2024:12:03:52] \"GET /plot?choosen_value=VCI&province_value=3&weeks=1-15&year=2000&output_id=plot_id& HTTP/1.1\" 200 34700 \"http://127.0.0.1:9093/?choosen_value=VCI&province_value=3&weeks=1-15&year=2000&\" \"Mozilla/5.0 (Windows NT 10.0; Win64; x64) AppleWebKit/537.36 (KHTML, like Gecko) Chrome/123.0.0.0 Safari/537.36\"\n"
     ]
    },
    {
     "name": "stdout",
     "output_type": "stream",
     "text": [
      "127.0.0.1 - - [28/Mar/2024:12:03:57] \"GET /table?choosen_value=VHI&province_value=3&weeks=1-15&year=2000&output_id=table_id& HTTP/1.1\" 200 2932 \"http://127.0.0.1:9093/?choosen_value=VHI&province_value=3&weeks=1-15&year=2000&\" \"Mozilla/5.0 (Windows NT 10.0; Win64; x64) AppleWebKit/537.36 (KHTML, like Gecko) Chrome/123.0.0.0 Safari/537.36\"\n"
     ]
    },
    {
     "name": "stderr",
     "output_type": "stream",
     "text": [
      "INFO:cherrypy.access.2070087904336:127.0.0.1 - - [28/Mar/2024:12:03:57] \"GET /table?choosen_value=VHI&province_value=3&weeks=1-15&year=2000&output_id=table_id& HTTP/1.1\" 200 2932 \"http://127.0.0.1:9093/?choosen_value=VHI&province_value=3&weeks=1-15&year=2000&\" \"Mozilla/5.0 (Windows NT 10.0; Win64; x64) AppleWebKit/537.36 (KHTML, like Gecko) Chrome/123.0.0.0 Safari/537.36\"\n"
     ]
    },
    {
     "name": "stdout",
     "output_type": "stream",
     "text": [
      "127.0.0.1 - - [28/Mar/2024:12:03:57] \"GET /spinning_wheel HTTP/1.1\" 200 2663 \"http://127.0.0.1:9093/?choosen_value=VHI&province_value=3&weeks=1-15&year=2000&\" \"Mozilla/5.0 (Windows NT 10.0; Win64; x64) AppleWebKit/537.36 (KHTML, like Gecko) Chrome/123.0.0.0 Safari/537.36\"\n"
     ]
    },
    {
     "name": "stderr",
     "output_type": "stream",
     "text": [
      "INFO:cherrypy.access.2070087904336:127.0.0.1 - - [28/Mar/2024:12:03:57] \"GET /spinning_wheel HTTP/1.1\" 200 2663 \"http://127.0.0.1:9093/?choosen_value=VHI&province_value=3&weeks=1-15&year=2000&\" \"Mozilla/5.0 (Windows NT 10.0; Win64; x64) AppleWebKit/537.36 (KHTML, like Gecko) Chrome/123.0.0.0 Safari/537.36\"\n"
     ]
    },
    {
     "name": "stdout",
     "output_type": "stream",
     "text": [
      "127.0.0.1 - - [28/Mar/2024:12:03:58] \"GET /plot?choosen_value=VHI&province_value=3&weeks=1-15&year=2000&output_id=plot_id& HTTP/1.1\" 200 34439 \"http://127.0.0.1:9093/?choosen_value=VHI&province_value=3&weeks=1-15&year=2000&\" \"Mozilla/5.0 (Windows NT 10.0; Win64; x64) AppleWebKit/537.36 (KHTML, like Gecko) Chrome/123.0.0.0 Safari/537.36\"\n"
     ]
    },
    {
     "name": "stderr",
     "output_type": "stream",
     "text": [
      "INFO:cherrypy.access.2070087904336:127.0.0.1 - - [28/Mar/2024:12:03:58] \"GET /plot?choosen_value=VHI&province_value=3&weeks=1-15&year=2000&output_id=plot_id& HTTP/1.1\" 200 34439 \"http://127.0.0.1:9093/?choosen_value=VHI&province_value=3&weeks=1-15&year=2000&\" \"Mozilla/5.0 (Windows NT 10.0; Win64; x64) AppleWebKit/537.36 (KHTML, like Gecko) Chrome/123.0.0.0 Safari/537.36\"\n",
      "[28/Mar/2024:12:04:05] HTTP \n",
      "Traceback (most recent call last):\n",
      "  File \"D:\\Anaconda\\Lib\\site-packages\\cherrypy\\_cprequest.py\", line 638, in respond\n",
      "    self._do_respond(path_info)\n",
      "  File \"D:\\Anaconda\\Lib\\site-packages\\cherrypy\\_cprequest.py\", line 697, in _do_respond\n",
      "    response.body = self.handler()\n",
      "                    ^^^^^^^^^^^^^^\n",
      "  File \"D:\\Anaconda\\Lib\\site-packages\\cherrypy\\lib\\encoding.py\", line 223, in __call__\n",
      "    self.body = self.oldhandler(*args, **kwargs)\n",
      "                ^^^^^^^^^^^^^^^^^^^^^^^^^^^^^^^^\n",
      "  File \"D:\\Anaconda\\Lib\\site-packages\\cherrypy\\_cpdispatch.py\", line 54, in __call__\n",
      "    return self.callable(*self.args, **self.kwargs)\n",
      "           ^^^^^^^^^^^^^^^^^^^^^^^^^^^^^^^^^^^^^^^^\n",
      "  File \"D:\\Anaconda\\Lib\\site-packages\\spyre\\server.py\", line 229, in table\n",
      "    df = self.getTable(args)\n",
      "         ^^^^^^^^^^^^^^^^^^^\n",
      "  File \"D:\\Anaconda\\Lib\\site-packages\\spyre\\server.py\", line 362, in getTable\n",
      "    df = self.getData(params)\n",
      "         ^^^^^^^^^^^^^^^^^^^^\n",
      "  File \"C:\\Users\\Admin\\AppData\\Local\\Temp\\ipykernel_5124\\729146648.py\", line 95, in getData\n",
      "    start_week = min(int(week_range[0]), int(week_range[1]))\n",
      "                                             ~~~~~~~~~~^^^\n",
      "IndexError: list index out of range\n",
      "ERROR:cherrypy.error.2070087904336:[28/Mar/2024:12:04:05] HTTP \n",
      "Traceback (most recent call last):\n",
      "  File \"D:\\Anaconda\\Lib\\site-packages\\cherrypy\\_cprequest.py\", line 638, in respond\n",
      "    self._do_respond(path_info)\n",
      "  File \"D:\\Anaconda\\Lib\\site-packages\\cherrypy\\_cprequest.py\", line 697, in _do_respond\n",
      "    response.body = self.handler()\n",
      "                    ^^^^^^^^^^^^^^\n",
      "  File \"D:\\Anaconda\\Lib\\site-packages\\cherrypy\\lib\\encoding.py\", line 223, in __call__\n",
      "    self.body = self.oldhandler(*args, **kwargs)\n",
      "                ^^^^^^^^^^^^^^^^^^^^^^^^^^^^^^^^\n",
      "  File \"D:\\Anaconda\\Lib\\site-packages\\cherrypy\\_cpdispatch.py\", line 54, in __call__\n",
      "    return self.callable(*self.args, **self.kwargs)\n",
      "           ^^^^^^^^^^^^^^^^^^^^^^^^^^^^^^^^^^^^^^^^\n",
      "  File \"D:\\Anaconda\\Lib\\site-packages\\spyre\\server.py\", line 229, in table\n",
      "    df = self.getTable(args)\n",
      "         ^^^^^^^^^^^^^^^^^^^\n",
      "  File \"D:\\Anaconda\\Lib\\site-packages\\spyre\\server.py\", line 362, in getTable\n",
      "    df = self.getData(params)\n",
      "         ^^^^^^^^^^^^^^^^^^^^\n",
      "  File \"C:\\Users\\Admin\\AppData\\Local\\Temp\\ipykernel_5124\\729146648.py\", line 95, in getData\n",
      "    start_week = min(int(week_range[0]), int(week_range[1]))\n",
      "                                             ~~~~~~~~~~^^^\n",
      "IndexError: list index out of range\n",
      "[28/Mar/2024:12:04:05] HTTP \n",
      "Traceback (most recent call last):\n",
      "  File \"D:\\Anaconda\\Lib\\site-packages\\cherrypy\\_cprequest.py\", line 638, in respond\n",
      "    self._do_respond(path_info)\n",
      "  File \"D:\\Anaconda\\Lib\\site-packages\\cherrypy\\_cprequest.py\", line 697, in _do_respond\n",
      "    response.body = self.handler()\n",
      "                    ^^^^^^^^^^^^^^\n",
      "  File \"D:\\Anaconda\\Lib\\site-packages\\cherrypy\\lib\\encoding.py\", line 223, in __call__\n",
      "    self.body = self.oldhandler(*args, **kwargs)\n",
      "                ^^^^^^^^^^^^^^^^^^^^^^^^^^^^^^^^\n",
      "  File \"D:\\Anaconda\\Lib\\site-packages\\cherrypy\\_cpdispatch.py\", line 54, in __call__\n",
      "    return self.callable(*self.args, **self.kwargs)\n",
      "           ^^^^^^^^^^^^^^^^^^^^^^^^^^^^^^^^^^^^^^^^\n",
      "  File \"D:\\Anaconda\\Lib\\site-packages\\spyre\\server.py\", line 198, in plot\n",
      "    p = self.getPlot(args)\n",
      "        ^^^^^^^^^^^^^^^^^^\n",
      "  File \"C:\\Users\\Admin\\AppData\\Local\\Temp\\ipykernel_5124\\729146648.py\", line 109, in getPlot\n",
      "    cdf = self.getData(params)\n",
      "          ^^^^^^^^^^^^^^^^^^^^\n",
      "  File \"C:\\Users\\Admin\\AppData\\Local\\Temp\\ipykernel_5124\\729146648.py\", line 95, in getData\n",
      "    start_week = min(int(week_range[0]), int(week_range[1]))\n",
      "                                             ~~~~~~~~~~^^^\n",
      "IndexError: list index out of range\n",
      "ERROR:cherrypy.error.2070087904336:[28/Mar/2024:12:04:05] HTTP \n",
      "Traceback (most recent call last):\n",
      "  File \"D:\\Anaconda\\Lib\\site-packages\\cherrypy\\_cprequest.py\", line 638, in respond\n",
      "    self._do_respond(path_info)\n",
      "  File \"D:\\Anaconda\\Lib\\site-packages\\cherrypy\\_cprequest.py\", line 697, in _do_respond\n",
      "    response.body = self.handler()\n",
      "                    ^^^^^^^^^^^^^^\n",
      "  File \"D:\\Anaconda\\Lib\\site-packages\\cherrypy\\lib\\encoding.py\", line 223, in __call__\n",
      "    self.body = self.oldhandler(*args, **kwargs)\n",
      "                ^^^^^^^^^^^^^^^^^^^^^^^^^^^^^^^^\n",
      "  File \"D:\\Anaconda\\Lib\\site-packages\\cherrypy\\_cpdispatch.py\", line 54, in __call__\n",
      "    return self.callable(*self.args, **self.kwargs)\n",
      "           ^^^^^^^^^^^^^^^^^^^^^^^^^^^^^^^^^^^^^^^^\n",
      "  File \"D:\\Anaconda\\Lib\\site-packages\\spyre\\server.py\", line 198, in plot\n",
      "    p = self.getPlot(args)\n",
      "        ^^^^^^^^^^^^^^^^^^\n",
      "  File \"C:\\Users\\Admin\\AppData\\Local\\Temp\\ipykernel_5124\\729146648.py\", line 109, in getPlot\n",
      "    cdf = self.getData(params)\n",
      "          ^^^^^^^^^^^^^^^^^^^^\n",
      "  File \"C:\\Users\\Admin\\AppData\\Local\\Temp\\ipykernel_5124\\729146648.py\", line 95, in getData\n",
      "    start_week = min(int(week_range[0]), int(week_range[1]))\n",
      "                                             ~~~~~~~~~~^^^\n",
      "IndexError: list index out of range\n",
      "[28/Mar/2024:12:04:05] HTTP \n",
      "Request Headers:\n",
      "  Remote-Addr: 127.0.0.1\n",
      "  HOST: 127.0.0.1:9093\n",
      "  CONNECTION: keep-alive\n",
      "  SEC-CH-UA: \"Google Chrome\";v=\"123\", \"Not:A-Brand\";v=\"8\", \"Chromium\";v=\"123\"\n",
      "  ACCEPT: */*\n",
      "  X-REQUESTED-WITH: XMLHttpRequest\n",
      "  SEC-CH-UA-MOBILE: ?0\n",
      "  USER-AGENT: Mozilla/5.0 (Windows NT 10.0; Win64; x64) AppleWebKit/537.36 (KHTML, like Gecko) Chrome/123.0.0.0 Safari/537.36\n",
      "  SEC-CH-UA-PLATFORM: \"Windows\"\n",
      "  SEC-FETCH-SITE: same-origin\n",
      "  SEC-FETCH-MODE: cors\n",
      "  SEC-FETCH-DEST: empty\n",
      "  REFERER: http://127.0.0.1:9093/?choosen_value=VHI&province_value=3&weeks=60&year=2000&\n",
      "  ACCEPT-ENCODING: gzip, deflate, br, zstd\n",
      "  ACCEPT-LANGUAGE: ru-RU,ru;q=0.9,en-US;q=0.8,en;q=0.7,uk;q=0.6,cs;q=0.5\n",
      "INFO:cherrypy.error.2070087904336:[28/Mar/2024:12:04:05] HTTP \n",
      "Request Headers:\n",
      "  Remote-Addr: 127.0.0.1\n",
      "  HOST: 127.0.0.1:9093\n",
      "  CONNECTION: keep-alive\n",
      "  SEC-CH-UA: \"Google Chrome\";v=\"123\", \"Not:A-Brand\";v=\"8\", \"Chromium\";v=\"123\"\n",
      "  ACCEPT: */*\n",
      "  X-REQUESTED-WITH: XMLHttpRequest\n",
      "  SEC-CH-UA-MOBILE: ?0\n",
      "  USER-AGENT: Mozilla/5.0 (Windows NT 10.0; Win64; x64) AppleWebKit/537.36 (KHTML, like Gecko) Chrome/123.0.0.0 Safari/537.36\n",
      "  SEC-CH-UA-PLATFORM: \"Windows\"\n",
      "  SEC-FETCH-SITE: same-origin\n",
      "  SEC-FETCH-MODE: cors\n",
      "  SEC-FETCH-DEST: empty\n",
      "  REFERER: http://127.0.0.1:9093/?choosen_value=VHI&province_value=3&weeks=60&year=2000&\n",
      "  ACCEPT-ENCODING: gzip, deflate, br, zstd\n",
      "  ACCEPT-LANGUAGE: ru-RU,ru;q=0.9,en-US;q=0.8,en;q=0.7,uk;q=0.6,cs;q=0.5\n",
      "[28/Mar/2024:12:04:05] HTTP \n",
      "Request Headers:\n",
      "  Remote-Addr: 127.0.0.1\n",
      "  HOST: 127.0.0.1:9093\n",
      "  CONNECTION: keep-alive\n",
      "  SEC-CH-UA: \"Google Chrome\";v=\"123\", \"Not:A-Brand\";v=\"8\", \"Chromium\";v=\"123\"\n",
      "  SEC-CH-UA-MOBILE: ?0\n",
      "  USER-AGENT: Mozilla/5.0 (Windows NT 10.0; Win64; x64) AppleWebKit/537.36 (KHTML, like Gecko) Chrome/123.0.0.0 Safari/537.36\n",
      "  SEC-CH-UA-PLATFORM: \"Windows\"\n",
      "  ACCEPT: image/avif,image/webp,image/apng,image/svg+xml,image/*,*/*;q=0.8\n",
      "  SEC-FETCH-SITE: same-origin\n",
      "  SEC-FETCH-MODE: no-cors\n",
      "  SEC-FETCH-DEST: image\n",
      "  REFERER: http://127.0.0.1:9093/?choosen_value=VHI&province_value=3&weeks=60&year=2000&\n",
      "  ACCEPT-ENCODING: gzip, deflate, br, zstd\n",
      "  ACCEPT-LANGUAGE: ru-RU,ru;q=0.9,en-US;q=0.8,en;q=0.7,uk;q=0.6,cs;q=0.5\n",
      "INFO:cherrypy.error.2070087904336:[28/Mar/2024:12:04:05] HTTP \n",
      "Request Headers:\n",
      "  Remote-Addr: 127.0.0.1\n",
      "  HOST: 127.0.0.1:9093\n",
      "  CONNECTION: keep-alive\n",
      "  SEC-CH-UA: \"Google Chrome\";v=\"123\", \"Not:A-Brand\";v=\"8\", \"Chromium\";v=\"123\"\n",
      "  SEC-CH-UA-MOBILE: ?0\n",
      "  USER-AGENT: Mozilla/5.0 (Windows NT 10.0; Win64; x64) AppleWebKit/537.36 (KHTML, like Gecko) Chrome/123.0.0.0 Safari/537.36\n",
      "  SEC-CH-UA-PLATFORM: \"Windows\"\n",
      "  ACCEPT: image/avif,image/webp,image/apng,image/svg+xml,image/*,*/*;q=0.8\n",
      "  SEC-FETCH-SITE: same-origin\n",
      "  SEC-FETCH-MODE: no-cors\n",
      "  SEC-FETCH-DEST: image\n",
      "  REFERER: http://127.0.0.1:9093/?choosen_value=VHI&province_value=3&weeks=60&year=2000&\n",
      "  ACCEPT-ENCODING: gzip, deflate, br, zstd\n",
      "  ACCEPT-LANGUAGE: ru-RU,ru;q=0.9,en-US;q=0.8,en;q=0.7,uk;q=0.6,cs;q=0.5\n"
     ]
    },
    {
     "name": "stdout",
     "output_type": "stream",
     "text": [
      "127.0.0.1 - - [28/Mar/2024:12:04:05] \"GET /table?choosen_value=VHI&province_value=3&weeks=60&year=2000&output_id=table_id& HTTP/1.1\" 500 2026 \"http://127.0.0.1:9093/?choosen_value=VHI&province_value=3&weeks=60&year=2000&\" \"Mozilla/5.0 (Windows NT 10.0; Win64; x64) AppleWebKit/537.36 (KHTML, like Gecko) Chrome/123.0.0.0 Safari/537.36\"\n"
     ]
    },
    {
     "name": "stderr",
     "output_type": "stream",
     "text": [
      "INFO:cherrypy.access.2070087904336:127.0.0.1 - - [28/Mar/2024:12:04:05] \"GET /table?choosen_value=VHI&province_value=3&weeks=60&year=2000&output_id=table_id& HTTP/1.1\" 500 2026 \"http://127.0.0.1:9093/?choosen_value=VHI&province_value=3&weeks=60&year=2000&\" \"Mozilla/5.0 (Windows NT 10.0; Win64; x64) AppleWebKit/537.36 (KHTML, like Gecko) Chrome/123.0.0.0 Safari/537.36\"\n"
     ]
    },
    {
     "name": "stdout",
     "output_type": "stream",
     "text": [
      "127.0.0.1 - - [28/Mar/2024:12:04:05] \"GET /plot?choosen_value=VHI&province_value=3&weeks=60&year=2000&output_id=plot_id& HTTP/1.1\" 500 2038 \"http://127.0.0.1:9093/?choosen_value=VHI&province_value=3&weeks=60&year=2000&\" \"Mozilla/5.0 (Windows NT 10.0; Win64; x64) AppleWebKit/537.36 (KHTML, like Gecko) Chrome/123.0.0.0 Safari/537.36\"\n"
     ]
    },
    {
     "name": "stderr",
     "output_type": "stream",
     "text": [
      "INFO:cherrypy.access.2070087904336:127.0.0.1 - - [28/Mar/2024:12:04:05] \"GET /plot?choosen_value=VHI&province_value=3&weeks=60&year=2000&output_id=plot_id& HTTP/1.1\" 500 2038 \"http://127.0.0.1:9093/?choosen_value=VHI&province_value=3&weeks=60&year=2000&\" \"Mozilla/5.0 (Windows NT 10.0; Win64; x64) AppleWebKit/537.36 (KHTML, like Gecko) Chrome/123.0.0.0 Safari/537.36\"\n"
     ]
    },
    {
     "name": "stdout",
     "output_type": "stream",
     "text": [
      "127.0.0.1 - - [28/Mar/2024:12:04:09] \"GET /table?choosen_value=VHI&province_value=3&weeks=60-12&year=2000&output_id=table_id& HTTP/1.1\" 200 7127 \"http://127.0.0.1:9093/?choosen_value=VHI&province_value=3&weeks=60-12&year=2000&\" \"Mozilla/5.0 (Windows NT 10.0; Win64; x64) AppleWebKit/537.36 (KHTML, like Gecko) Chrome/123.0.0.0 Safari/537.36\"\n"
     ]
    },
    {
     "name": "stderr",
     "output_type": "stream",
     "text": [
      "INFO:cherrypy.access.2070087904336:127.0.0.1 - - [28/Mar/2024:12:04:09] \"GET /table?choosen_value=VHI&province_value=3&weeks=60-12&year=2000&output_id=table_id& HTTP/1.1\" 200 7127 \"http://127.0.0.1:9093/?choosen_value=VHI&province_value=3&weeks=60-12&year=2000&\" \"Mozilla/5.0 (Windows NT 10.0; Win64; x64) AppleWebKit/537.36 (KHTML, like Gecko) Chrome/123.0.0.0 Safari/537.36\"\n"
     ]
    },
    {
     "name": "stdout",
     "output_type": "stream",
     "text": [
      "127.0.0.1 - - [28/Mar/2024:12:04:10] \"GET /plot?choosen_value=VHI&province_value=3&weeks=60-12&year=2000&output_id=plot_id& HTTP/1.1\" 200 36054 \"http://127.0.0.1:9093/?choosen_value=VHI&province_value=3&weeks=60-12&year=2000&\" \"Mozilla/5.0 (Windows NT 10.0; Win64; x64) AppleWebKit/537.36 (KHTML, like Gecko) Chrome/123.0.0.0 Safari/537.36\"\n"
     ]
    },
    {
     "name": "stderr",
     "output_type": "stream",
     "text": [
      "INFO:cherrypy.access.2070087904336:127.0.0.1 - - [28/Mar/2024:12:04:10] \"GET /plot?choosen_value=VHI&province_value=3&weeks=60-12&year=2000&output_id=plot_id& HTTP/1.1\" 200 36054 \"http://127.0.0.1:9093/?choosen_value=VHI&province_value=3&weeks=60-12&year=2000&\" \"Mozilla/5.0 (Windows NT 10.0; Win64; x64) AppleWebKit/537.36 (KHTML, like Gecko) Chrome/123.0.0.0 Safari/537.36\"\n"
     ]
    },
    {
     "name": "stdout",
     "output_type": "stream",
     "text": [
      "127.0.0.1 - - [28/Mar/2024:12:04:24] \"GET /table?choosen_value=VHI&province_value=3&weeks=231-2&year=2000&output_id=table_id& HTTP/1.1\" 200 8729 \"http://127.0.0.1:9093/?choosen_value=VHI&province_value=3&weeks=231-2&year=2000&\" \"Mozilla/5.0 (Windows NT 10.0; Win64; x64) AppleWebKit/537.36 (KHTML, like Gecko) Chrome/123.0.0.0 Safari/537.36\"\n"
     ]
    },
    {
     "name": "stderr",
     "output_type": "stream",
     "text": [
      "INFO:cherrypy.access.2070087904336:127.0.0.1 - - [28/Mar/2024:12:04:24] \"GET /table?choosen_value=VHI&province_value=3&weeks=231-2&year=2000&output_id=table_id& HTTP/1.1\" 200 8729 \"http://127.0.0.1:9093/?choosen_value=VHI&province_value=3&weeks=231-2&year=2000&\" \"Mozilla/5.0 (Windows NT 10.0; Win64; x64) AppleWebKit/537.36 (KHTML, like Gecko) Chrome/123.0.0.0 Safari/537.36\"\n"
     ]
    },
    {
     "name": "stdout",
     "output_type": "stream",
     "text": [
      "127.0.0.1 - - [28/Mar/2024:12:04:24] \"GET /plot?choosen_value=VHI&province_value=3&weeks=231-2&year=2000&output_id=plot_id& HTTP/1.1\" 200 39376 \"http://127.0.0.1:9093/?choosen_value=VHI&province_value=3&weeks=231-2&year=2000&\" \"Mozilla/5.0 (Windows NT 10.0; Win64; x64) AppleWebKit/537.36 (KHTML, like Gecko) Chrome/123.0.0.0 Safari/537.36\"\n"
     ]
    },
    {
     "name": "stderr",
     "output_type": "stream",
     "text": [
      "INFO:cherrypy.access.2070087904336:127.0.0.1 - - [28/Mar/2024:12:04:24] \"GET /plot?choosen_value=VHI&province_value=3&weeks=231-2&year=2000&output_id=plot_id& HTTP/1.1\" 200 39376 \"http://127.0.0.1:9093/?choosen_value=VHI&province_value=3&weeks=231-2&year=2000&\" \"Mozilla/5.0 (Windows NT 10.0; Win64; x64) AppleWebKit/537.36 (KHTML, like Gecko) Chrome/123.0.0.0 Safari/537.36\"\n"
     ]
    },
    {
     "name": "stdout",
     "output_type": "stream",
     "text": [
      "127.0.0.1 - - [28/Mar/2024:12:04:34] \"GET /table?choosen_value=VHI&province_value=3&weeks=1-52&year=2000&output_id=table_id& HTTP/1.1\" 200 8889 \"http://127.0.0.1:9093/?choosen_value=VHI&province_value=3&weeks=1-52&year=2000&\" \"Mozilla/5.0 (Windows NT 10.0; Win64; x64) AppleWebKit/537.36 (KHTML, like Gecko) Chrome/123.0.0.0 Safari/537.36\"\n"
     ]
    },
    {
     "name": "stderr",
     "output_type": "stream",
     "text": [
      "INFO:cherrypy.access.2070087904336:127.0.0.1 - - [28/Mar/2024:12:04:34] \"GET /table?choosen_value=VHI&province_value=3&weeks=1-52&year=2000&output_id=table_id& HTTP/1.1\" 200 8889 \"http://127.0.0.1:9093/?choosen_value=VHI&province_value=3&weeks=1-52&year=2000&\" \"Mozilla/5.0 (Windows NT 10.0; Win64; x64) AppleWebKit/537.36 (KHTML, like Gecko) Chrome/123.0.0.0 Safari/537.36\"\n"
     ]
    },
    {
     "name": "stdout",
     "output_type": "stream",
     "text": [
      "127.0.0.1 - - [28/Mar/2024:12:04:34] \"GET /spinning_wheel HTTP/1.1\" 200 2663 \"http://127.0.0.1:9093/?choosen_value=VHI&province_value=3&weeks=1-52&year=2000&\" \"Mozilla/5.0 (Windows NT 10.0; Win64; x64) AppleWebKit/537.36 (KHTML, like Gecko) Chrome/123.0.0.0 Safari/537.36\"\n"
     ]
    },
    {
     "name": "stderr",
     "output_type": "stream",
     "text": [
      "INFO:cherrypy.access.2070087904336:127.0.0.1 - - [28/Mar/2024:12:04:34] \"GET /spinning_wheel HTTP/1.1\" 200 2663 \"http://127.0.0.1:9093/?choosen_value=VHI&province_value=3&weeks=1-52&year=2000&\" \"Mozilla/5.0 (Windows NT 10.0; Win64; x64) AppleWebKit/537.36 (KHTML, like Gecko) Chrome/123.0.0.0 Safari/537.36\"\n"
     ]
    },
    {
     "name": "stdout",
     "output_type": "stream",
     "text": [
      "127.0.0.1 - - [28/Mar/2024:12:04:34] \"GET /plot?choosen_value=VHI&province_value=3&weeks=1-52&year=2000&output_id=plot_id& HTTP/1.1\" 200 39522 \"http://127.0.0.1:9093/?choosen_value=VHI&province_value=3&weeks=1-52&year=2000&\" \"Mozilla/5.0 (Windows NT 10.0; Win64; x64) AppleWebKit/537.36 (KHTML, like Gecko) Chrome/123.0.0.0 Safari/537.36\"\n"
     ]
    },
    {
     "name": "stderr",
     "output_type": "stream",
     "text": [
      "INFO:cherrypy.access.2070087904336:127.0.0.1 - - [28/Mar/2024:12:04:34] \"GET /plot?choosen_value=VHI&province_value=3&weeks=1-52&year=2000&output_id=plot_id& HTTP/1.1\" 200 39522 \"http://127.0.0.1:9093/?choosen_value=VHI&province_value=3&weeks=1-52&year=2000&\" \"Mozilla/5.0 (Windows NT 10.0; Win64; x64) AppleWebKit/537.36 (KHTML, like Gecko) Chrome/123.0.0.0 Safari/537.36\"\n"
     ]
    },
    {
     "name": "stdout",
     "output_type": "stream",
     "text": [
      "127.0.0.1 - - [28/Mar/2024:12:04:37] \"GET /table?choosen_value=TCI&province_value=3&weeks=1-52&year=2000&output_id=table_id& HTTP/1.1\" 200 8886 \"http://127.0.0.1:9093/?choosen_value=TCI&province_value=3&weeks=1-52&year=2000&\" \"Mozilla/5.0 (Windows NT 10.0; Win64; x64) AppleWebKit/537.36 (KHTML, like Gecko) Chrome/123.0.0.0 Safari/537.36\"\n"
     ]
    },
    {
     "name": "stderr",
     "output_type": "stream",
     "text": [
      "INFO:cherrypy.access.2070087904336:127.0.0.1 - - [28/Mar/2024:12:04:37] \"GET /table?choosen_value=TCI&province_value=3&weeks=1-52&year=2000&output_id=table_id& HTTP/1.1\" 200 8886 \"http://127.0.0.1:9093/?choosen_value=TCI&province_value=3&weeks=1-52&year=2000&\" \"Mozilla/5.0 (Windows NT 10.0; Win64; x64) AppleWebKit/537.36 (KHTML, like Gecko) Chrome/123.0.0.0 Safari/537.36\"\n"
     ]
    },
    {
     "name": "stdout",
     "output_type": "stream",
     "text": [
      "127.0.0.1 - - [28/Mar/2024:12:04:37] \"GET /table?choosen_value=TCI&province_value=3&weeks=1-52&year=2000&output_id=table_id& HTTP/1.1\" 200 8886 \"http://127.0.0.1:9093/?choosen_value=TCI&province_value=3&weeks=1-52&year=2000&\" \"Mozilla/5.0 (Windows NT 10.0; Win64; x64) AppleWebKit/537.36 (KHTML, like Gecko) Chrome/123.0.0.0 Safari/537.36\"\n"
     ]
    },
    {
     "name": "stderr",
     "output_type": "stream",
     "text": [
      "INFO:cherrypy.access.2070087904336:127.0.0.1 - - [28/Mar/2024:12:04:37] \"GET /table?choosen_value=TCI&province_value=3&weeks=1-52&year=2000&output_id=table_id& HTTP/1.1\" 200 8886 \"http://127.0.0.1:9093/?choosen_value=TCI&province_value=3&weeks=1-52&year=2000&\" \"Mozilla/5.0 (Windows NT 10.0; Win64; x64) AppleWebKit/537.36 (KHTML, like Gecko) Chrome/123.0.0.0 Safari/537.36\"\n"
     ]
    },
    {
     "name": "stdout",
     "output_type": "stream",
     "text": [
      "127.0.0.1 - - [28/Mar/2024:12:04:37] \"GET /plot?choosen_value=TCI&province_value=3&weeks=1-52&year=2000&output_id=plot_id& HTTP/1.1\" 200 41199 \"http://127.0.0.1:9093/?choosen_value=TCI&province_value=3&weeks=1-52&year=2000&\" \"Mozilla/5.0 (Windows NT 10.0; Win64; x64) AppleWebKit/537.36 (KHTML, like Gecko) Chrome/123.0.0.0 Safari/537.36\"\n"
     ]
    },
    {
     "name": "stderr",
     "output_type": "stream",
     "text": [
      "INFO:cherrypy.access.2070087904336:127.0.0.1 - - [28/Mar/2024:12:04:37] \"GET /plot?choosen_value=TCI&province_value=3&weeks=1-52&year=2000&output_id=plot_id& HTTP/1.1\" 200 41199 \"http://127.0.0.1:9093/?choosen_value=TCI&province_value=3&weeks=1-52&year=2000&\" \"Mozilla/5.0 (Windows NT 10.0; Win64; x64) AppleWebKit/537.36 (KHTML, like Gecko) Chrome/123.0.0.0 Safari/537.36\"\n"
     ]
    },
    {
     "name": "stdout",
     "output_type": "stream",
     "text": [
      "127.0.0.1 - - [28/Mar/2024:12:04:39] \"GET /table?choosen_value=VCI&province_value=3&weeks=1-52&year=2000&output_id=table_id& HTTP/1.1\" 200 8889 \"http://127.0.0.1:9093/?choosen_value=VCI&province_value=3&weeks=1-52&year=2000&\" \"Mozilla/5.0 (Windows NT 10.0; Win64; x64) AppleWebKit/537.36 (KHTML, like Gecko) Chrome/123.0.0.0 Safari/537.36\"\n"
     ]
    },
    {
     "name": "stderr",
     "output_type": "stream",
     "text": [
      "INFO:cherrypy.access.2070087904336:127.0.0.1 - - [28/Mar/2024:12:04:39] \"GET /table?choosen_value=VCI&province_value=3&weeks=1-52&year=2000&output_id=table_id& HTTP/1.1\" 200 8889 \"http://127.0.0.1:9093/?choosen_value=VCI&province_value=3&weeks=1-52&year=2000&\" \"Mozilla/5.0 (Windows NT 10.0; Win64; x64) AppleWebKit/537.36 (KHTML, like Gecko) Chrome/123.0.0.0 Safari/537.36\"\n"
     ]
    },
    {
     "name": "stdout",
     "output_type": "stream",
     "text": [
      "127.0.0.1 - - [28/Mar/2024:12:04:39] \"GET /plot?choosen_value=VCI&province_value=3&weeks=1-52&year=2000&output_id=plot_id& HTTP/1.1\" 200 46224 \"http://127.0.0.1:9093/?choosen_value=VCI&province_value=3&weeks=1-52&year=2000&\" \"Mozilla/5.0 (Windows NT 10.0; Win64; x64) AppleWebKit/537.36 (KHTML, like Gecko) Chrome/123.0.0.0 Safari/537.36\"\n"
     ]
    },
    {
     "name": "stderr",
     "output_type": "stream",
     "text": [
      "INFO:cherrypy.access.2070087904336:127.0.0.1 - - [28/Mar/2024:12:04:39] \"GET /plot?choosen_value=VCI&province_value=3&weeks=1-52&year=2000&output_id=plot_id& HTTP/1.1\" 200 46224 \"http://127.0.0.1:9093/?choosen_value=VCI&province_value=3&weeks=1-52&year=2000&\" \"Mozilla/5.0 (Windows NT 10.0; Win64; x64) AppleWebKit/537.36 (KHTML, like Gecko) Chrome/123.0.0.0 Safari/537.36\"\n"
     ]
    }
   ],
   "source": [
    "from spyre import server\n",
    "import seaborn as sns\n",
    "from matplotlib import pyplot as plt\n",
    "\n",
    "import __main__ as main\n",
    "main.__file__ = \"main_file\"\n",
    "\n",
    "server.include_df_index = True\n",
    "\n",
    "\n",
    "class StockExample(server.App):\n",
    "    title = \"NOAA DATA\"\n",
    "\n",
    "    inputs = [{\n",
    "            \"type\": 'dropdown',\n",
    "            \"label\": 'Values',\n",
    "            \"options\": [{\"label\": \"VCI\", \"value\": \"VCI\"},\n",
    "                        {\"label\": \"TCI\", \"value\": \"TCI\"},\n",
    "                        {\"label\": \"VHI\", \"value\": \"VHI\"}],\n",
    "            \"key\": 'choosen_value',\n",
    "        },\n",
    "        {\n",
    "            \"type\": 'dropdown',\n",
    "            \"label\": 'Values',\n",
    "            \"options\": [{\"label\": \"Вінницька\", \"value\": \"1\"},\n",
    "                        {\"label\": \"Волинська\", \"value\": \"2\"},\n",
    "                        {\"label\": \"Дніпропетровська\", \"value\": \"3\"},\n",
    "                        {\"label\": \"Донецька\", \"value\": \"4\"},\n",
    "                        {\"label\": \"Житомирська\", \"value\": \"5\"},\n",
    "                        {\"label\": \"Закарпатська\", \"value\": \"6\"},\n",
    "                        {\"label\": \"Запорізька\", \"value\": \"7\"},\n",
    "                        {\"label\": \"Івано-Франківська\", \"value\": \"8\"},\n",
    "                        {\"label\": \"Київська\", \"value\": \"9\"},\n",
    "                        {\"label\": \"Кіровоградська\", \"value\": \"10\"},\n",
    "                        {\"label\": \"Луганська\", \"value\": \"11\"},\n",
    "                        {\"label\": \"Львівська\", \"value\": \"12\"},\n",
    "                        {\"label\": \"Миколаївська\", \"value\": \"13\"},\n",
    "                        {\"label\": \"Одеська\", \"value\": \"14\"},\n",
    "                        {\"label\": \"Полтавська\", \"value\": \"15\"},\n",
    "                        {\"label\": \"Рівненська\", \"value\": \"16\"},\n",
    "                        {\"label\": \"Сумська\", \"value\": \"17\"},\n",
    "                        {\"label\": \"Тернопільська\", \"value\": \"18\"},\n",
    "                        {\"label\": \"Харківська\", \"value\": \"19\"},\n",
    "                        {\"label\": \"Херсонська\", \"value\": \"20\"},\n",
    "                        {\"label\": \"Хмельницька\", \"value\": \"21\"},\n",
    "                        {\"label\": \"Черкаська\", \"value\": \"22\"},\n",
    "                        {\"label\": \"Чернівецька\", \"value\": \"23\"},\n",
    "                        {\"label\": \"Чернігівська\", \"value\": \"24\"},\n",
    "                        {\"label\": \"Республіка Крим\", \"value\": \"25\"},\n",
    "                        {\"label\": \"Київ\", \"value\": \"26\"},\n",
    "                        {\"label\": \"Севастополь\", \"value\": \"27\"},],\n",
    "            \"key\": 'province_value',\n",
    "        },\n",
    "        {\n",
    "            \"type\":\"text\",\n",
    "            \"label\":\"weeks range\",\n",
    "            \"key\":\"weeks\",\n",
    "            \"value\":\"1-15\",\n",
    "        },\n",
    "        {\n",
    "            \"type\":\"text\",\n",
    "            \"label\":\"year\",\n",
    "            \"key\":\"year\",\n",
    "            \"value\":\"1982\",\n",
    "        }\n",
    "        ]\n",
    "\n",
    "    outputs = [{\n",
    "            \"type\": \"plot\",\n",
    "            \"id\": \"plot_id\",\n",
    "            \"tab\": \"Plot\",\n",
    "            \"control_id\": \"button1\"\n",
    "        },\n",
    "        {\n",
    "            \"type\":\"table\",\n",
    "            \"id\":\"table_id\",\n",
    "            \"tab\": \"Table\",\n",
    "            \"control_id\": \"button1\"\n",
    "        }]\n",
    "\n",
    "    controls = [{\n",
    "            \"type\": \"button\",\n",
    "            \"id\": \"button1\",\n",
    "            \"label\": \"Update data\"\n",
    "        }]\n",
    "    \n",
    "    tabs=['Plot','Table']\n",
    "\n",
    "    def getData(self,params):\n",
    "        ch_province=params[\"province_value\"]\n",
    "        ch_value=params['choosen_value']\n",
    "        year=params['year']\n",
    "        \n",
    "        week_range = params['weeks'].split('-')\n",
    "        start_week = min(int(week_range[0]), int(week_range[1]))\n",
    "        end_week = max(int(week_range[0]), int(week_range[1]))\n",
    "            \n",
    "        filter_condition = (\n",
    "        (combined_dataframe['Region'].astype(str) == ch_province) &\n",
    "        (combined_dataframe['Week'].between(start_week, end_week)) &\n",
    "        (combined_dataframe['Year'].astype(str) == year))\n",
    "\n",
    "        columns_to_select = ['Year', 'Week', 'SMN', 'SMT', ch_value, 'Region']\n",
    "\n",
    "        cdf = combined_dataframe.loc[filter_condition, columns_to_select]\n",
    "        return cdf\n",
    "    \n",
    "    def getPlot(self, params):\n",
    "        cdf = self.getData(params)\n",
    "        ch_value=params['choosen_value']\n",
    "        cdf['Week']=cdf['Week'].astype('int64')\n",
    "        min_week = min(cdf['Week'])\n",
    "        max_week = max(cdf['Week'])\n",
    "        \n",
    "        plt.figure(figsize=(14,7))\n",
    "        plt_obj=sns.lineplot(x=cdf['Week'], y=cdf[ch_value])\n",
    "        plt_obj.set_xticks(range(int(min_week), int(max_week) + 1))\n",
    "        return plt_obj\n",
    "app = StockExample()\n",
    "app.launch(port=9093)"
   ]
  },
  {
   "cell_type": "code",
   "execution_count": null,
   "metadata": {},
   "outputs": [],
   "source": []
  }
 ],
 "metadata": {
  "kernelspec": {
   "display_name": "Python 3 (ipykernel)",
   "language": "python",
   "name": "python3"
  },
  "language_info": {
   "codemirror_mode": {
    "name": "ipython",
    "version": 3
   },
   "file_extension": ".py",
   "mimetype": "text/x-python",
   "name": "python",
   "nbconvert_exporter": "python",
   "pygments_lexer": "ipython3",
   "version": "3.11.5"
  }
 },
 "nbformat": 4,
 "nbformat_minor": 2
}
